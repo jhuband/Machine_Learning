{
 "cells": [
  {
   "cell_type": "markdown",
   "metadata": {},
   "source": [
    "## CNN Example\n"
   ]
  },
  {
   "cell_type": "markdown",
   "metadata": {},
   "source": [
    "#### Load the Keras Packages"
   ]
  },
  {
   "cell_type": "code",
   "execution_count": null,
   "metadata": {},
   "outputs": [],
   "source": [
    "import numpy as np      \n",
    "from keras.datasets import mnist \n",
    "from keras.models import Sequential  \n",
    "from keras.layers import Dense, Activation, Convolution2D, MaxPooling2D, Flatten, Dropout  \n",
    "from keras.utils import np_utils\n"
   ]
  },
  {
   "cell_type": "markdown",
   "metadata": {},
   "source": [
    "#### Read in the Data"
   ]
  },
  {
   "cell_type": "code",
   "execution_count": null,
   "metadata": {},
   "outputs": [],
   "source": [
    "(X_train, Y_train), (X_test, Y_test) = mnist.load_data()\n"
   ]
  },
  {
   "cell_type": "markdown",
   "metadata": {},
   "source": [
    "#### Set up the Constants"
   ]
  },
  {
   "cell_type": "code",
   "execution_count": null,
   "metadata": {},
   "outputs": [],
   "source": [
    "numTrain = X_train.shape[0]\n",
    "numTest = X_test.shape[0]\n",
    "numRows = X_train.shape[1]\n",
    "numCols = X_train.shape[2]\n",
    "labels = set(Y_train)\n",
    "input_size = numRows * numCols\n",
    "numLabels = len(labels) \n",
    "batch_size = 100     \n",
    "hidden_neurons = 200     \n",
    "epochs = 8   \n",
    "np.random.seed(1234)  #for reproducibility\n"
   ]
  },
  {
   "cell_type": "markdown",
   "metadata": {},
   "source": [
    "#### Reshape the Data\n"
   ]
  },
  {
   "cell_type": "code",
   "execution_count": null,
   "metadata": {},
   "outputs": [],
   "source": [
    "X_train = X_train.reshape(numTrain, numRows, numCols, 1)\n",
    "X_test = X_test.reshape(numTest, numRows, numCols, 1)\n",
    "\n",
    "#  Scale values\n",
    "X_train = X_train.astype('float32')     \n",
    "X_test = X_test.astype('float32')\n",
    "X_train /= 255     \n",
    "X_test /= 255 \n",
    "\n",
    "#  Convert labels to ‘one-hot’ vectors\n",
    "Y_train = np_utils.to_categorical(Y_train, numLabels)     \n",
    "Y_test = np_utils.to_categorical(Y_test, numLabels) \n"
   ]
  },
  {
   "cell_type": "markdown",
   "metadata": {},
   "source": [
    "#### Define the Initial Layer"
   ]
  },
  {
   "cell_type": "code",
   "execution_count": null,
   "metadata": {},
   "outputs": [],
   "source": [
    "#  Set up model for tensorflow\n",
    "subfield = (3,3)\n",
    "pooling_size = (2,2)\n",
    "num_color_channels = 1\n",
    "numNodes = 32\n",
    "\n",
    "model = Sequential()\n",
    "#Initial Input layer\n",
    "model.add(Convolution2D(numNodes, subfield, input_shape=(numRows, numCols, num_color_channels)))             \n",
    "model.add(Activation('relu')) "
   ]
  },
  {
   "cell_type": "markdown",
   "metadata": {},
   "source": [
    "#### Define the Hidden Layer"
   ]
  },
  {
   "cell_type": "code",
   "execution_count": null,
   "metadata": {},
   "outputs": [],
   "source": [
    "#  First Convolution Layer\n",
    "model.add(Convolution2D(numNodes, subfield))\n",
    "model.add(Activation('relu'))  \n",
    "\n",
    "model.add(MaxPooling2D(pool_size=pooling_size))             \n",
    "model.add(Dropout(0.25))                  \n",
    "model.add(Flatten())         \n",
    "\n",
    "# Fully Connected Layer\n",
    "model.add(Dense(hidden_neurons))\n",
    "model.add(Activation('relu'))  \n",
    "\n"
   ]
  },
  {
   "cell_type": "markdown",
   "metadata": {},
   "source": [
    "#### Define the Output Layer"
   ]
  },
  {
   "cell_type": "code",
   "execution_count": null,
   "metadata": {},
   "outputs": [],
   "source": [
    "#  Output Layer\n",
    "model.add(Dense(numLabels))       \n",
    "model.add(Activation('softmax'))\n"
   ]
  },
  {
   "cell_type": "markdown",
   "metadata": {},
   "source": [
    "#### Configure the Learning Process"
   ]
  },
  {
   "cell_type": "code",
   "execution_count": null,
   "metadata": {},
   "outputs": [],
   "source": [
    "\n",
    "model.compile(loss='categorical_crossentropy', \n",
    "           metrics=['accuracy'], optimizer='adam') \n"
   ]
  },
  {
   "cell_type": "markdown",
   "metadata": {},
   "source": [
    "#### Fit the Model to the Training Data"
   ]
  },
  {
   "cell_type": "code",
   "execution_count": null,
   "metadata": {},
   "outputs": [],
   "source": [
    "model.fit(X_train, Y_train, batch_size=batch_size,epochs=epochs, validation_split = 0.1, verbose=1) \n",
    "score = model.evaluate(X_train, Y_train, verbose=1)\n",
    "print('\\nTrain accuracy:', score[1])          \n"
   ]
  },
  {
   "cell_type": "markdown",
   "metadata": {},
   "source": [
    "#### Apply the Model to the Test Data"
   ]
  },
  {
   "cell_type": "code",
   "execution_count": null,
   "metadata": {},
   "outputs": [],
   "source": [
    "score = model.evaluate(X_test, Y_test, verbose=1) \n",
    "print('\\nTest accuracy:', score[1])\n"
   ]
  }
 ],
 "metadata": {
  "kernelspec": {
   "display_name": "Tensorflow 1.12/Keras Py3.6",
   "language": "python",
   "name": "tensorflow112_py36"
  },
  "language_info": {
   "codemirror_mode": {
    "name": "ipython",
    "version": 3
   },
   "file_extension": ".py",
   "mimetype": "text/x-python",
   "name": "python",
   "nbconvert_exporter": "python",
   "pygments_lexer": "ipython3",
   "version": "3.6.5"
  }
 },
 "nbformat": 4,
 "nbformat_minor": 4
}
